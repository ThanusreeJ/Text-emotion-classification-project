{
  "nbformat": 4,
  "nbformat_minor": 0,
  "metadata": {
    "colab": {
      "provenance": [],
      "gpuType": "T4",
      "authorship_tag": "ABX9TyOTBZJEIglWfqnpP/R1kWUQ",
      "include_colab_link": true
    },
    "kernelspec": {
      "name": "python3",
      "display_name": "Python 3"
    },
    "language_info": {
      "name": "python"
    },
    "accelerator": "GPU"
  },
  "cells": [
    {
      "cell_type": "markdown",
      "metadata": {
        "id": "view-in-github",
        "colab_type": "text"
      },
      "source": [
        "<a href=\"https://colab.research.google.com/github/ThanusreeJ/Text-emotion-classification-project/blob/main/TextEmotionsClassificationModelProject_Thanusree.ipynb\" target=\"_parent\"><img src=\"https://colab.research.google.com/assets/colab-badge.svg\" alt=\"Open In Colab\"/></a>"
      ]
    },
    {
      "cell_type": "code",
      "execution_count": null,
      "metadata": {
        "colab": {
          "base_uri": "https://localhost:8080/"
        },
        "id": "M7EvKyQIpBt0",
        "outputId": "e9a30b9c-3905-49a4-ee77-62ad526f0f92"
      },
      "outputs": [
        {
          "output_type": "stream",
          "name": "stdout",
          "text": [
            "Requirement already satisfied: tensorflow in /usr/local/lib/python3.10/dist-packages (2.15.0)\n",
            "Collecting sklearn\n",
            "  Downloading sklearn-0.0.post12.tar.gz (2.6 kB)\n",
            "  \u001b[1;31merror\u001b[0m: \u001b[1msubprocess-exited-with-error\u001b[0m\n",
            "  \n",
            "  \u001b[31m×\u001b[0m \u001b[32mpython setup.py egg_info\u001b[0m did not run successfully.\n",
            "  \u001b[31m│\u001b[0m exit code: \u001b[1;36m1\u001b[0m\n",
            "  \u001b[31m╰─>\u001b[0m See above for output.\n",
            "  \n",
            "  \u001b[1;35mnote\u001b[0m: This error originates from a subprocess, and is likely not a problem with pip.\n",
            "  Preparing metadata (setup.py) ... \u001b[?25l\u001b[?25herror\n",
            "\u001b[1;31merror\u001b[0m: \u001b[1mmetadata-generation-failed\u001b[0m\n",
            "\n",
            "\u001b[31m×\u001b[0m Encountered error while generating package metadata.\n",
            "\u001b[31m╰─>\u001b[0m See above for output.\n",
            "\n",
            "\u001b[1;35mnote\u001b[0m: This is an issue with the package mentioned above, not pip.\n",
            "\u001b[1;36mhint\u001b[0m: See above for details.\n"
          ]
        }
      ],
      "source": [
        "!pip install tensorflow sklearn"
      ]
    },
    {
      "cell_type": "code",
      "source": [
        "import pandas as pd\n",
        "import numpy as np\n",
        "import keras\n",
        "import tensorflow\n",
        "from keras.preprocessing.text import Tokenizer\n",
        "from tensorflow.keras.preprocessing.sequence import pad_sequences\n",
        "from sklearn.preprocessing import LabelEncoder\n",
        "from sklearn.model_selection import train_test_split\n",
        "from keras.models import Sequential\n",
        "from keras.layers import Embedding, Flatten, Dense\n",
        "\n",
        "\n",
        "data = pd.read_csv(\"train.txt\", sep=';')\n",
        "data.columns = [\"Text\", \"Emotions\"]\n",
        "print(data.head())"
      ],
      "metadata": {
        "colab": {
          "base_uri": "https://localhost:8080/"
        },
        "id": "3rJRwqTRs1h-",
        "outputId": "8abb981e-0046-4e0d-ac63-3c148fc77885"
      },
      "execution_count": null,
      "outputs": [
        {
          "output_type": "stream",
          "name": "stdout",
          "text": [
            "                                                Text Emotions\n",
            "0  i can go from feeling so hopeless to so damned...  sadness\n",
            "1   im grabbing a minute to post i feel greedy wrong    anger\n",
            "2  i am ever feeling nostalgic about the fireplac...     love\n",
            "3                               i am feeling grouchy    anger\n",
            "4  ive been feeling a little burdened lately wasn...  sadness\n"
          ]
        }
      ]
    },
    {
      "cell_type": "code",
      "source": [
        "texts = data[\"Text\"].tolist()\n",
        "labels = data[\"Emotions\"].tolist()\n",
        "\n",
        "# Tokenize the text data\n",
        "tokenizer = Tokenizer()\n",
        "tokenizer.fit_on_texts(texts)"
      ],
      "metadata": {
        "id": "I7mKbmE-tOch"
      },
      "execution_count": null,
      "outputs": []
    },
    {
      "cell_type": "code",
      "source": [
        "sequences = tokenizer.texts_to_sequences(texts)\n",
        "max_length = max([len(seq) for seq in sequences])\n",
        "padded_sequences = pad_sequences(sequences, maxlen=max_length)"
      ],
      "metadata": {
        "id": "gIp1b71At4mF"
      },
      "execution_count": null,
      "outputs": []
    },
    {
      "cell_type": "code",
      "source": [
        "# Encode the string labels to integers\n",
        "label_encoder = LabelEncoder()\n",
        "labels = label_encoder.fit_transform(labels)"
      ],
      "metadata": {
        "id": "k9qj7drtt-AF"
      },
      "execution_count": null,
      "outputs": []
    },
    {
      "cell_type": "code",
      "source": [
        "# One-hot encode the labels\n",
        "one_hot_labels = keras.utils.to_categorical(labels)"
      ],
      "metadata": {
        "id": "kEccCjxiuBVu"
      },
      "execution_count": null,
      "outputs": []
    },
    {
      "cell_type": "code",
      "source": [
        "# Split the data into training and testing sets\n",
        "xtrain, xtest, ytrain, ytest = train_test_split(padded_sequences,\n",
        "                                                one_hot_labels,\n",
        "                                                test_size=0.2)"
      ],
      "metadata": {
        "id": "4z9StuGUuDr1"
      },
      "execution_count": null,
      "outputs": []
    },
    {
      "cell_type": "code",
      "source": [
        "# Define the model\n",
        "model = Sequential()\n",
        "model.add(Embedding(input_dim=len(tokenizer.word_index) + 1,\n",
        "                    output_dim=128, input_length=max_length))\n",
        "model.add(Flatten())\n",
        "model.add(Dense(units=128, activation=\"relu\"))\n",
        "model.add(Dense(units=len(one_hot_labels[0]), activation=\"softmax\"))\n",
        "\n",
        "model.compile(optimizer=\"adam\", loss=\"categorical_crossentropy\", metrics=[\"accuracy\"])\n",
        "model.fit(xtrain, ytrain, epochs=15, batch_size=32, validation_data=(xtest, ytest))"
      ],
      "metadata": {
        "colab": {
          "base_uri": "https://localhost:8080/"
        },
        "id": "1Q4JE0vruIdr",
        "outputId": "7cf43252-aea2-4937-8469-d71c46e6201a"
      },
      "execution_count": null,
      "outputs": [
        {
          "output_type": "stream",
          "name": "stdout",
          "text": [
            "Epoch 1/15\n",
            "400/400 [==============================] - 16s 33ms/step - loss: 1.3461 - accuracy: 0.4818 - val_loss: 0.9018 - val_accuracy: 0.6669\n",
            "Epoch 2/15\n",
            "400/400 [==============================] - 4s 9ms/step - loss: 0.3590 - accuracy: 0.8873 - val_loss: 0.5667 - val_accuracy: 0.8119\n",
            "Epoch 3/15\n",
            "400/400 [==============================] - 3s 7ms/step - loss: 0.0615 - accuracy: 0.9831 - val_loss: 0.6156 - val_accuracy: 0.8191\n",
            "Epoch 4/15\n",
            "400/400 [==============================] - 3s 8ms/step - loss: 0.0249 - accuracy: 0.9943 - val_loss: 0.6546 - val_accuracy: 0.8153\n",
            "Epoch 5/15\n",
            "400/400 [==============================] - 2s 5ms/step - loss: 0.0166 - accuracy: 0.9966 - val_loss: 0.6807 - val_accuracy: 0.8197\n",
            "Epoch 6/15\n",
            "400/400 [==============================] - 2s 5ms/step - loss: 0.0128 - accuracy: 0.9974 - val_loss: 0.6976 - val_accuracy: 0.8213\n",
            "Epoch 7/15\n",
            "400/400 [==============================] - 2s 5ms/step - loss: 0.0129 - accuracy: 0.9973 - val_loss: 0.7181 - val_accuracy: 0.8169\n",
            "Epoch 8/15\n",
            "400/400 [==============================] - 2s 5ms/step - loss: 0.0134 - accuracy: 0.9970 - val_loss: 0.7510 - val_accuracy: 0.8184\n",
            "Epoch 9/15\n",
            "400/400 [==============================] - 2s 5ms/step - loss: 0.0122 - accuracy: 0.9972 - val_loss: 0.7673 - val_accuracy: 0.8194\n",
            "Epoch 10/15\n",
            "400/400 [==============================] - 3s 7ms/step - loss: 0.0101 - accuracy: 0.9974 - val_loss: 0.8352 - val_accuracy: 0.8016\n",
            "Epoch 11/15\n",
            "400/400 [==============================] - 2s 5ms/step - loss: 0.0105 - accuracy: 0.9973 - val_loss: 0.7862 - val_accuracy: 0.8138\n",
            "Epoch 12/15\n",
            "400/400 [==============================] - 2s 4ms/step - loss: 0.0087 - accuracy: 0.9975 - val_loss: 0.9008 - val_accuracy: 0.8059\n",
            "Epoch 13/15\n",
            "400/400 [==============================] - 2s 5ms/step - loss: 0.0092 - accuracy: 0.9973 - val_loss: 0.9068 - val_accuracy: 0.8141\n",
            "Epoch 14/15\n",
            "400/400 [==============================] - 2s 5ms/step - loss: 0.0073 - accuracy: 0.9974 - val_loss: 0.9460 - val_accuracy: 0.8119\n",
            "Epoch 15/15\n",
            "400/400 [==============================] - 2s 5ms/step - loss: 0.0071 - accuracy: 0.9971 - val_loss: 0.9070 - val_accuracy: 0.8122\n"
          ]
        },
        {
          "output_type": "execute_result",
          "data": {
            "text/plain": [
              "<keras.src.callbacks.History at 0x7a510f4da5c0>"
            ]
          },
          "metadata": {},
          "execution_count": 9
        }
      ]
    },
    {
      "cell_type": "code",
      "source": [
        "input_text = \"She didn't come today because she lost her dog yestertay!\"\n",
        "\n",
        "# Preprocess the input text\n",
        "input_sequence = tokenizer.texts_to_sequences([input_text])\n",
        "padded_input_sequence = pad_sequences(input_sequence, maxlen=max_length)\n",
        "prediction = model.predict(padded_input_sequence)\n",
        "predicted_label = label_encoder.inverse_transform([np.argmax(prediction[0])])\n",
        "print(predicted_label)"
      ],
      "metadata": {
        "colab": {
          "base_uri": "https://localhost:8080/"
        },
        "id": "FA8t9nuyuZzI",
        "outputId": "82e5cb9a-1d90-49a0-fe9b-9132c2303d78"
      },
      "execution_count": null,
      "outputs": [
        {
          "output_type": "stream",
          "name": "stdout",
          "text": [
            "1/1 [==============================] - 0s 154ms/step\n",
            "['sadness']\n"
          ]
        }
      ]
    },
    {
      "cell_type": "code",
      "source": [
        "input_text = input(\"enterthe text:\")\n",
        "\n",
        "# Preprocess the input text\n",
        "input_sequence = tokenizer.texts_to_sequences([input_text])\n",
        "padded_input_sequence = pad_sequences(input_sequence, maxlen=max_length)\n",
        "prediction = model.predict(padded_input_sequence)\n",
        "predicted_label = label_encoder.inverse_transform([np.argmax(prediction[0])])\n",
        "print(predicted_label)"
      ],
      "metadata": {
        "colab": {
          "base_uri": "https://localhost:8080/"
        },
        "id": "HYXvyxrAuoiS",
        "outputId": "232b71ac-0e7e-4b3f-b58a-75348a141a00"
      },
      "execution_count": null,
      "outputs": [
        {
          "output_type": "stream",
          "name": "stdout",
          "text": [
            "enterthe text:im grabbing a minute to post i feel greedy wrong\n",
            "1/1 [==============================] - 0s 17ms/step\n",
            "['anger']\n"
          ]
        }
      ]
    },
    {
      "cell_type": "code",
      "source": [
        "input_text = input(\"enterthe text:\")\n",
        "\n",
        "# Preprocess the input text\n",
        "input_sequence = tokenizer.texts_to_sequences([input_text])\n",
        "padded_input_sequence = pad_sequences(input_sequence, maxlen=max_length)\n",
        "prediction = model.predict(padded_input_sequence)\n",
        "predicted_label = label_encoder.inverse_transform([np.argmax(prediction[0])])\n",
        "print(predicted_label)"
      ],
      "metadata": {
        "colab": {
          "base_uri": "https://localhost:8080/"
        },
        "id": "lQ_5v4efu-wD",
        "outputId": "be52b880-6601-4bf5-809c-557fa9cf0cc5"
      },
      "execution_count": null,
      "outputs": [
        {
          "output_type": "stream",
          "name": "stdout",
          "text": [
            "enterthe text:i am ever feeling nostalgic about the fireplac...\n",
            "1/1 [==============================] - 0s 17ms/step\n",
            "['love']\n"
          ]
        }
      ]
    },
    {
      "cell_type": "code",
      "source": [
        "input_text = input(\"enterthe text:\")\n",
        "\n",
        "# Preprocess the input text\n",
        "input_sequence = tokenizer.texts_to_sequences([input_text])\n",
        "padded_input_sequence = pad_sequences(input_sequence, maxlen=max_length)\n",
        "prediction = model.predict(padded_input_sequence)\n",
        "predicted_label = label_encoder.inverse_transform([np.argmax(prediction[0])])\n",
        "print(predicted_label)"
      ],
      "metadata": {
        "colab": {
          "base_uri": "https://localhost:8080/"
        },
        "id": "lXXqtQxHvQMZ",
        "outputId": "35c9987b-3b33-40ba-ef24-70bb2d829466"
      },
      "execution_count": null,
      "outputs": [
        {
          "output_type": "stream",
          "name": "stdout",
          "text": [
            "enterthe text:hi hello\n",
            "1/1 [==============================] - 0s 17ms/step\n",
            "['joy']\n"
          ]
        }
      ]
    },
    {
      "cell_type": "code",
      "source": [],
      "metadata": {
        "id": "e85Jsq-1vXXP"
      },
      "execution_count": null,
      "outputs": []
    }
  ]
}